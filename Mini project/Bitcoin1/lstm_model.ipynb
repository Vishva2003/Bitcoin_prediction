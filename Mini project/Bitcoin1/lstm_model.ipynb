{
 "cells": [
  {
   "cell_type": "code",
   "execution_count": 8,
   "metadata": {},
   "outputs": [],
   "source": [
    "import numpy as np\n",
    "import matplotlib.pyplot as plt\n",
    "import pandas as pd\n",
    "from sklearn.preprocessing import MinMaxScaler"
   ]
  },
  {
   "cell_type": "code",
   "execution_count": 9,
   "metadata": {},
   "outputs": [
    {
     "name": "stdout",
     "output_type": "stream",
     "text": [
      "            Date          Open          High           Low         Close  \\\n",
      "2221  2023-03-08  22216.441406  22268.896484  21708.050781  21718.080078   \n",
      "2222  2023-03-09  21720.080078  21802.716797  20210.306641  20363.021484   \n",
      "2223  2023-03-10  20367.001953  20370.595703  19628.253906  20187.244141   \n",
      "2224  2023-03-11  20187.876953  20792.525391  20068.660156  20632.410156   \n",
      "2225  2023-03-12  20608.310547  20721.226563  20448.806641  20590.931641   \n",
      "\n",
      "         Adj Close       Volume  \n",
      "2221  21718.080078  22536575684  \n",
      "2222  20363.021484  30364664171  \n",
      "2223  20187.244141  39578257695  \n",
      "2224  20632.410156  30180288176  \n",
      "2225  20590.931641  20716259328  \n"
     ]
    }
   ],
   "source": [
    "\n",
    "data = pd.read_csv(r'C:\\Users\\Admin\\Desktop\\BTC-USD.csv')\n",
    "print(data.tail())"
   ]
  },
  {
   "cell_type": "code",
   "execution_count": 10,
   "metadata": {},
   "outputs": [
    {
     "data": {
      "text/html": [
       "<div>\n",
       "<style scoped>\n",
       "    .dataframe tbody tr th:only-of-type {\n",
       "        vertical-align: middle;\n",
       "    }\n",
       "\n",
       "    .dataframe tbody tr th {\n",
       "        vertical-align: top;\n",
       "    }\n",
       "\n",
       "    .dataframe thead th {\n",
       "        text-align: right;\n",
       "    }\n",
       "</style>\n",
       "<table border=\"1\" class=\"dataframe\">\n",
       "  <thead>\n",
       "    <tr style=\"text-align: right;\">\n",
       "      <th></th>\n",
       "      <th>Date</th>\n",
       "      <th>Open</th>\n",
       "      <th>High</th>\n",
       "      <th>Low</th>\n",
       "      <th>Close</th>\n",
       "      <th>Adj Close</th>\n",
       "      <th>Volume</th>\n",
       "    </tr>\n",
       "  </thead>\n",
       "  <tbody>\n",
       "    <tr>\n",
       "      <th>0</th>\n",
       "      <td>2017-02-06</td>\n",
       "      <td>1028.400024</td>\n",
       "      <td>1044.640015</td>\n",
       "      <td>1028.160034</td>\n",
       "      <td>1038.150024</td>\n",
       "      <td>1038.150024</td>\n",
       "      <td>111762000</td>\n",
       "    </tr>\n",
       "    <tr>\n",
       "      <th>1</th>\n",
       "      <td>2017-02-07</td>\n",
       "      <td>1040.140015</td>\n",
       "      <td>1061.930054</td>\n",
       "      <td>1040.140015</td>\n",
       "      <td>1061.349976</td>\n",
       "      <td>1061.349976</td>\n",
       "      <td>146007008</td>\n",
       "    </tr>\n",
       "    <tr>\n",
       "      <th>2</th>\n",
       "      <td>2017-02-08</td>\n",
       "      <td>1062.319946</td>\n",
       "      <td>1078.969971</td>\n",
       "      <td>1037.489990</td>\n",
       "      <td>1063.069946</td>\n",
       "      <td>1063.069946</td>\n",
       "      <td>201855008</td>\n",
       "    </tr>\n",
       "    <tr>\n",
       "      <th>3</th>\n",
       "      <td>2017-02-09</td>\n",
       "      <td>1064.699951</td>\n",
       "      <td>1088.989990</td>\n",
       "      <td>953.343994</td>\n",
       "      <td>994.382996</td>\n",
       "      <td>994.382996</td>\n",
       "      <td>407220000</td>\n",
       "    </tr>\n",
       "    <tr>\n",
       "      <th>4</th>\n",
       "      <td>2017-02-10</td>\n",
       "      <td>995.632019</td>\n",
       "      <td>998.905029</td>\n",
       "      <td>946.690979</td>\n",
       "      <td>988.674011</td>\n",
       "      <td>988.674011</td>\n",
       "      <td>190452000</td>\n",
       "    </tr>\n",
       "    <tr>\n",
       "      <th>...</th>\n",
       "      <td>...</td>\n",
       "      <td>...</td>\n",
       "      <td>...</td>\n",
       "      <td>...</td>\n",
       "      <td>...</td>\n",
       "      <td>...</td>\n",
       "      <td>...</td>\n",
       "    </tr>\n",
       "    <tr>\n",
       "      <th>2150</th>\n",
       "      <td>2022-12-27</td>\n",
       "      <td>16919.291016</td>\n",
       "      <td>16959.845703</td>\n",
       "      <td>16642.072266</td>\n",
       "      <td>16717.173828</td>\n",
       "      <td>16717.173828</td>\n",
       "      <td>15748580239</td>\n",
       "    </tr>\n",
       "    <tr>\n",
       "      <th>2151</th>\n",
       "      <td>2022-12-28</td>\n",
       "      <td>16716.400391</td>\n",
       "      <td>16768.169922</td>\n",
       "      <td>16497.556641</td>\n",
       "      <td>16552.572266</td>\n",
       "      <td>16552.572266</td>\n",
       "      <td>17005713920</td>\n",
       "    </tr>\n",
       "    <tr>\n",
       "      <th>2152</th>\n",
       "      <td>2022-12-29</td>\n",
       "      <td>16552.322266</td>\n",
       "      <td>16651.755859</td>\n",
       "      <td>16508.683594</td>\n",
       "      <td>16642.341797</td>\n",
       "      <td>16642.341797</td>\n",
       "      <td>14472237479</td>\n",
       "    </tr>\n",
       "    <tr>\n",
       "      <th>2153</th>\n",
       "      <td>2022-12-30</td>\n",
       "      <td>16641.330078</td>\n",
       "      <td>16643.427734</td>\n",
       "      <td>16408.474609</td>\n",
       "      <td>16602.585938</td>\n",
       "      <td>16602.585938</td>\n",
       "      <td>15929162910</td>\n",
       "    </tr>\n",
       "    <tr>\n",
       "      <th>2154</th>\n",
       "      <td>2022-12-31</td>\n",
       "      <td>16603.673828</td>\n",
       "      <td>16628.986328</td>\n",
       "      <td>16517.519531</td>\n",
       "      <td>16547.496094</td>\n",
       "      <td>16547.496094</td>\n",
       "      <td>11239186456</td>\n",
       "    </tr>\n",
       "  </tbody>\n",
       "</table>\n",
       "<p>2155 rows × 7 columns</p>\n",
       "</div>"
      ],
      "text/plain": [
       "            Date          Open          High           Low         Close  \\\n",
       "0     2017-02-06   1028.400024   1044.640015   1028.160034   1038.150024   \n",
       "1     2017-02-07   1040.140015   1061.930054   1040.140015   1061.349976   \n",
       "2     2017-02-08   1062.319946   1078.969971   1037.489990   1063.069946   \n",
       "3     2017-02-09   1064.699951   1088.989990    953.343994    994.382996   \n",
       "4     2017-02-10    995.632019    998.905029    946.690979    988.674011   \n",
       "...          ...           ...           ...           ...           ...   \n",
       "2150  2022-12-27  16919.291016  16959.845703  16642.072266  16717.173828   \n",
       "2151  2022-12-28  16716.400391  16768.169922  16497.556641  16552.572266   \n",
       "2152  2022-12-29  16552.322266  16651.755859  16508.683594  16642.341797   \n",
       "2153  2022-12-30  16641.330078  16643.427734  16408.474609  16602.585938   \n",
       "2154  2022-12-31  16603.673828  16628.986328  16517.519531  16547.496094   \n",
       "\n",
       "         Adj Close       Volume  \n",
       "0      1038.150024    111762000  \n",
       "1      1061.349976    146007008  \n",
       "2      1063.069946    201855008  \n",
       "3       994.382996    407220000  \n",
       "4       988.674011    190452000  \n",
       "...            ...          ...  \n",
       "2150  16717.173828  15748580239  \n",
       "2151  16552.572266  17005713920  \n",
       "2152  16642.341797  14472237479  \n",
       "2153  16602.585938  15929162910  \n",
       "2154  16547.496094  11239186456  \n",
       "\n",
       "[2155 rows x 7 columns]"
      ]
     },
     "execution_count": 10,
     "metadata": {},
     "output_type": "execute_result"
    }
   ],
   "source": [
    "data_training = data[data['Date']< '2023-01-01'].copy()\n",
    "data_training"
   ]
  },
  {
   "cell_type": "code",
   "execution_count": 11,
   "metadata": {},
   "outputs": [
    {
     "data": {
      "text/html": [
       "<div>\n",
       "<style scoped>\n",
       "    .dataframe tbody tr th:only-of-type {\n",
       "        vertical-align: middle;\n",
       "    }\n",
       "\n",
       "    .dataframe tbody tr th {\n",
       "        vertical-align: top;\n",
       "    }\n",
       "\n",
       "    .dataframe thead th {\n",
       "        text-align: right;\n",
       "    }\n",
       "</style>\n",
       "<table border=\"1\" class=\"dataframe\">\n",
       "  <thead>\n",
       "    <tr style=\"text-align: right;\">\n",
       "      <th></th>\n",
       "      <th>Date</th>\n",
       "      <th>Open</th>\n",
       "      <th>High</th>\n",
       "      <th>Low</th>\n",
       "      <th>Close</th>\n",
       "      <th>Adj Close</th>\n",
       "      <th>Volume</th>\n",
       "    </tr>\n",
       "  </thead>\n",
       "  <tbody>\n",
       "    <tr>\n",
       "      <th>0</th>\n",
       "      <td>2017-02-06</td>\n",
       "      <td>1028.400024</td>\n",
       "      <td>1044.640015</td>\n",
       "      <td>1028.160034</td>\n",
       "      <td>1038.150024</td>\n",
       "      <td>1038.150024</td>\n",
       "      <td>111762000</td>\n",
       "    </tr>\n",
       "    <tr>\n",
       "      <th>1</th>\n",
       "      <td>2017-02-07</td>\n",
       "      <td>1040.140015</td>\n",
       "      <td>1061.930054</td>\n",
       "      <td>1040.140015</td>\n",
       "      <td>1061.349976</td>\n",
       "      <td>1061.349976</td>\n",
       "      <td>146007008</td>\n",
       "    </tr>\n",
       "    <tr>\n",
       "      <th>2</th>\n",
       "      <td>2017-02-08</td>\n",
       "      <td>1062.319946</td>\n",
       "      <td>1078.969971</td>\n",
       "      <td>1037.489990</td>\n",
       "      <td>1063.069946</td>\n",
       "      <td>1063.069946</td>\n",
       "      <td>201855008</td>\n",
       "    </tr>\n",
       "    <tr>\n",
       "      <th>3</th>\n",
       "      <td>2017-02-09</td>\n",
       "      <td>1064.699951</td>\n",
       "      <td>1088.989990</td>\n",
       "      <td>953.343994</td>\n",
       "      <td>994.382996</td>\n",
       "      <td>994.382996</td>\n",
       "      <td>407220000</td>\n",
       "    </tr>\n",
       "    <tr>\n",
       "      <th>4</th>\n",
       "      <td>2017-02-10</td>\n",
       "      <td>995.632019</td>\n",
       "      <td>998.905029</td>\n",
       "      <td>946.690979</td>\n",
       "      <td>988.674011</td>\n",
       "      <td>988.674011</td>\n",
       "      <td>190452000</td>\n",
       "    </tr>\n",
       "    <tr>\n",
       "      <th>...</th>\n",
       "      <td>...</td>\n",
       "      <td>...</td>\n",
       "      <td>...</td>\n",
       "      <td>...</td>\n",
       "      <td>...</td>\n",
       "      <td>...</td>\n",
       "      <td>...</td>\n",
       "    </tr>\n",
       "    <tr>\n",
       "      <th>2150</th>\n",
       "      <td>2022-12-27</td>\n",
       "      <td>16919.291016</td>\n",
       "      <td>16959.845703</td>\n",
       "      <td>16642.072266</td>\n",
       "      <td>16717.173828</td>\n",
       "      <td>16717.173828</td>\n",
       "      <td>15748580239</td>\n",
       "    </tr>\n",
       "    <tr>\n",
       "      <th>2151</th>\n",
       "      <td>2022-12-28</td>\n",
       "      <td>16716.400391</td>\n",
       "      <td>16768.169922</td>\n",
       "      <td>16497.556641</td>\n",
       "      <td>16552.572266</td>\n",
       "      <td>16552.572266</td>\n",
       "      <td>17005713920</td>\n",
       "    </tr>\n",
       "    <tr>\n",
       "      <th>2152</th>\n",
       "      <td>2022-12-29</td>\n",
       "      <td>16552.322266</td>\n",
       "      <td>16651.755859</td>\n",
       "      <td>16508.683594</td>\n",
       "      <td>16642.341797</td>\n",
       "      <td>16642.341797</td>\n",
       "      <td>14472237479</td>\n",
       "    </tr>\n",
       "    <tr>\n",
       "      <th>2153</th>\n",
       "      <td>2022-12-30</td>\n",
       "      <td>16641.330078</td>\n",
       "      <td>16643.427734</td>\n",
       "      <td>16408.474609</td>\n",
       "      <td>16602.585938</td>\n",
       "      <td>16602.585938</td>\n",
       "      <td>15929162910</td>\n",
       "    </tr>\n",
       "    <tr>\n",
       "      <th>2154</th>\n",
       "      <td>2022-12-31</td>\n",
       "      <td>16603.673828</td>\n",
       "      <td>16628.986328</td>\n",
       "      <td>16517.519531</td>\n",
       "      <td>16547.496094</td>\n",
       "      <td>16547.496094</td>\n",
       "      <td>11239186456</td>\n",
       "    </tr>\n",
       "  </tbody>\n",
       "</table>\n",
       "<p>2155 rows × 7 columns</p>\n",
       "</div>"
      ],
      "text/plain": [
       "            Date          Open          High           Low         Close  \\\n",
       "0     2017-02-06   1028.400024   1044.640015   1028.160034   1038.150024   \n",
       "1     2017-02-07   1040.140015   1061.930054   1040.140015   1061.349976   \n",
       "2     2017-02-08   1062.319946   1078.969971   1037.489990   1063.069946   \n",
       "3     2017-02-09   1064.699951   1088.989990    953.343994    994.382996   \n",
       "4     2017-02-10    995.632019    998.905029    946.690979    988.674011   \n",
       "...          ...           ...           ...           ...           ...   \n",
       "2150  2022-12-27  16919.291016  16959.845703  16642.072266  16717.173828   \n",
       "2151  2022-12-28  16716.400391  16768.169922  16497.556641  16552.572266   \n",
       "2152  2022-12-29  16552.322266  16651.755859  16508.683594  16642.341797   \n",
       "2153  2022-12-30  16641.330078  16643.427734  16408.474609  16602.585938   \n",
       "2154  2022-12-31  16603.673828  16628.986328  16517.519531  16547.496094   \n",
       "\n",
       "         Adj Close       Volume  \n",
       "0      1038.150024    111762000  \n",
       "1      1061.349976    146007008  \n",
       "2      1063.069946    201855008  \n",
       "3       994.382996    407220000  \n",
       "4       988.674011    190452000  \n",
       "...            ...          ...  \n",
       "2150  16717.173828  15748580239  \n",
       "2151  16552.572266  17005713920  \n",
       "2152  16642.341797  14472237479  \n",
       "2153  16602.585938  15929162910  \n",
       "2154  16547.496094  11239186456  \n",
       "\n",
       "[2155 rows x 7 columns]"
      ]
     },
     "execution_count": 11,
     "metadata": {},
     "output_type": "execute_result"
    }
   ],
   "source": [
    "data_test = data[data['Date']< '2023-01-01'].copy()\n",
    "data_test"
   ]
  },
  {
   "cell_type": "code",
   "execution_count": 12,
   "metadata": {},
   "outputs": [
    {
     "data": {
      "text/html": [
       "<div>\n",
       "<style scoped>\n",
       "    .dataframe tbody tr th:only-of-type {\n",
       "        vertical-align: middle;\n",
       "    }\n",
       "\n",
       "    .dataframe tbody tr th {\n",
       "        vertical-align: top;\n",
       "    }\n",
       "\n",
       "    .dataframe thead th {\n",
       "        text-align: right;\n",
       "    }\n",
       "</style>\n",
       "<table border=\"1\" class=\"dataframe\">\n",
       "  <thead>\n",
       "    <tr style=\"text-align: right;\">\n",
       "      <th></th>\n",
       "      <th>Open</th>\n",
       "      <th>High</th>\n",
       "      <th>Low</th>\n",
       "      <th>Close</th>\n",
       "      <th>Volume</th>\n",
       "    </tr>\n",
       "  </thead>\n",
       "  <tbody>\n",
       "    <tr>\n",
       "      <th>0</th>\n",
       "      <td>1028.400024</td>\n",
       "      <td>1044.640015</td>\n",
       "      <td>1028.160034</td>\n",
       "      <td>1038.150024</td>\n",
       "      <td>111762000</td>\n",
       "    </tr>\n",
       "    <tr>\n",
       "      <th>1</th>\n",
       "      <td>1040.140015</td>\n",
       "      <td>1061.930054</td>\n",
       "      <td>1040.140015</td>\n",
       "      <td>1061.349976</td>\n",
       "      <td>146007008</td>\n",
       "    </tr>\n",
       "    <tr>\n",
       "      <th>2</th>\n",
       "      <td>1062.319946</td>\n",
       "      <td>1078.969971</td>\n",
       "      <td>1037.489990</td>\n",
       "      <td>1063.069946</td>\n",
       "      <td>201855008</td>\n",
       "    </tr>\n",
       "    <tr>\n",
       "      <th>3</th>\n",
       "      <td>1064.699951</td>\n",
       "      <td>1088.989990</td>\n",
       "      <td>953.343994</td>\n",
       "      <td>994.382996</td>\n",
       "      <td>407220000</td>\n",
       "    </tr>\n",
       "    <tr>\n",
       "      <th>4</th>\n",
       "      <td>995.632019</td>\n",
       "      <td>998.905029</td>\n",
       "      <td>946.690979</td>\n",
       "      <td>988.674011</td>\n",
       "      <td>190452000</td>\n",
       "    </tr>\n",
       "  </tbody>\n",
       "</table>\n",
       "</div>"
      ],
      "text/plain": [
       "          Open         High          Low        Close     Volume\n",
       "0  1028.400024  1044.640015  1028.160034  1038.150024  111762000\n",
       "1  1040.140015  1061.930054  1040.140015  1061.349976  146007008\n",
       "2  1062.319946  1078.969971  1037.489990  1063.069946  201855008\n",
       "3  1064.699951  1088.989990   953.343994   994.382996  407220000\n",
       "4   995.632019   998.905029   946.690979   988.674011  190452000"
      ]
     },
     "execution_count": 12,
     "metadata": {},
     "output_type": "execute_result"
    }
   ],
   "source": [
    "training_data = data_training.drop(['Date', 'Adj Close'], axis = 1)\n",
    "training_data.head()"
   ]
  },
  {
   "cell_type": "code",
   "execution_count": 13,
   "metadata": {},
   "outputs": [
    {
     "data": {
      "text/plain": [
       "array([[1.37900677e-03, 1.01570719e-03, 1.90058274e-03, 1.51029640e-03,\n",
       "        1.26052859e-04],\n",
       "       [1.55524799e-03, 1.27067037e-03, 2.08354369e-03, 1.85849080e-03,\n",
       "        2.23644674e-04],\n",
       "       [1.88821403e-03, 1.52194520e-03, 2.04307192e-03, 1.88430481e-03,\n",
       "        3.82800942e-04],\n",
       "       ...,\n",
       "       [2.34424763e-01, 2.31162095e-01, 2.38322601e-01, 2.35704410e-01,\n",
       "        4.10506999e-02],\n",
       "       [2.35760952e-01, 2.31039286e-01, 2.36792187e-01, 2.35107738e-01,\n",
       "        4.52026626e-02],\n",
       "       [2.35195654e-01, 2.30826330e-01, 2.38457546e-01, 2.34280927e-01,\n",
       "        3.18371142e-02]])"
      ]
     },
     "execution_count": 13,
     "metadata": {},
     "output_type": "execute_result"
    }
   ],
   "source": [
    "scaler = MinMaxScaler()\n",
    "training_data = scaler.fit_transform(training_data)\n",
    "training_data"
   ]
  },
  {
   "cell_type": "code",
   "execution_count": 14,
   "metadata": {},
   "outputs": [
    {
     "data": {
      "text/plain": [
       "(2095, 60, 5)"
      ]
     },
     "execution_count": 14,
     "metadata": {},
     "output_type": "execute_result"
    }
   ],
   "source": [
    "X_train = [] \n",
    "Y_train = []\n",
    "training_data.shape[0]\n",
    "for i in range(60, training_data.shape[0]):\n",
    " X_train.append(training_data[i-60:i])\n",
    " Y_train.append(training_data[i,0])\n",
    "X_train, Y_train = np.array(X_train), np.array(Y_train)\n",
    "X_train.shape"
   ]
  },
  {
   "cell_type": "code",
   "execution_count": 15,
   "metadata": {},
   "outputs": [],
   "source": [
    "from tensorflow.keras import Sequential\n",
    "from tensorflow.keras.layers import Dense, LSTM, Dropout"
   ]
  },
  {
   "cell_type": "code",
   "execution_count": 16,
   "metadata": {},
   "outputs": [],
   "source": [
    "model = Sequential() \n",
    "model.add(LSTM(units = 50, activation = 'relu', return_sequences = True, input_shape = (X_train.shape[1], 5)))\n"
   ]
  },
  {
   "cell_type": "code",
   "execution_count": 18,
   "metadata": {},
   "outputs": [],
   "source": [
    "model.add(Dropout(0.2)) \n",
    "model.add(LSTM(units = 60, activation = 'relu', return_sequences = True))\n"
   ]
  },
  {
   "cell_type": "code",
   "execution_count": 19,
   "metadata": {},
   "outputs": [],
   "source": [
    "model.add(Dropout(0.3)) \n",
    "model.add(LSTM(units = 80, activation = 'relu', return_sequences = True))\n"
   ]
  },
  {
   "cell_type": "code",
   "execution_count": 20,
   "metadata": {},
   "outputs": [
    {
     "name": "stdout",
     "output_type": "stream",
     "text": [
      "Model: \"sequential_2\"\n",
      "_________________________________________________________________\n",
      " Layer (type)                Output Shape              Param #   \n",
      "=================================================================\n",
      " lstm_2 (LSTM)               (None, 60, 50)            11200     \n",
      "                                                                 \n",
      " dropout_2 (Dropout)         (None, 60, 50)            0         \n",
      "                                                                 \n",
      " lstm_3 (LSTM)               (None, 60, 60)            26640     \n",
      "                                                                 \n",
      " dropout_3 (Dropout)         (None, 60, 60)            0         \n",
      "                                                                 \n",
      " lstm_4 (LSTM)               (None, 60, 60)            29040     \n",
      "                                                                 \n",
      " dropout_4 (Dropout)         (None, 60, 60)            0         \n",
      "                                                                 \n",
      " lstm_5 (LSTM)               (None, 60, 80)            45120     \n",
      "                                                                 \n",
      " dropout_5 (Dropout)         (None, 60, 80)            0         \n",
      "                                                                 \n",
      " lstm_6 (LSTM)               (None, 120)               96480     \n",
      "                                                                 \n",
      " dropout_6 (Dropout)         (None, 120)               0         \n",
      "                                                                 \n",
      " dense (Dense)               (None, 1)                 121       \n",
      "                                                                 \n",
      "=================================================================\n",
      "Total params: 208,601\n",
      "Trainable params: 208,601\n",
      "Non-trainable params: 0\n",
      "_________________________________________________________________\n"
     ]
    }
   ],
   "source": [
    "model.add(Dropout(0.4)) \n",
    "model.add(LSTM(units = 120, activation = 'relu'))\n",
    "model.add(Dropout(0.5)) \n",
    "model.add(Dense(units =1))\n",
    "model.summary()"
   ]
  },
  {
   "cell_type": "code",
   "execution_count": 21,
   "metadata": {},
   "outputs": [
    {
     "name": "stdout",
     "output_type": "stream",
     "text": [
      "Epoch 1/20\n",
      "38/38 [==============================] - 9s 136ms/step - loss: 0.0497 - val_loss: 0.0021\n",
      "Epoch 2/20\n",
      "38/38 [==============================] - 5s 129ms/step - loss: 0.0092 - val_loss: 0.0012\n",
      "Epoch 3/20\n",
      "38/38 [==============================] - 5s 124ms/step - loss: 0.0074 - val_loss: 0.0024\n",
      "Epoch 4/20\n",
      "38/38 [==============================] - 5s 124ms/step - loss: 0.0068 - val_loss: 0.0024\n",
      "Epoch 5/20\n",
      "38/38 [==============================] - 5s 124ms/step - loss: 0.0063 - val_loss: 0.0018\n",
      "Epoch 6/20\n",
      "38/38 [==============================] - 5s 126ms/step - loss: 0.0058 - val_loss: 0.0034\n",
      "Epoch 7/20\n",
      "38/38 [==============================] - 5s 127ms/step - loss: 0.0052 - val_loss: 0.0013\n",
      "Epoch 8/20\n",
      "38/38 [==============================] - 5s 124ms/step - loss: 0.0051 - val_loss: 0.0022\n",
      "Epoch 9/20\n",
      "38/38 [==============================] - 5s 127ms/step - loss: 0.0055 - val_loss: 0.0018\n",
      "Epoch 10/20\n",
      "38/38 [==============================] - 5s 127ms/step - loss: 0.0049 - val_loss: 0.0015\n",
      "Epoch 11/20\n",
      "38/38 [==============================] - 5s 129ms/step - loss: 0.0051 - val_loss: 0.0017\n",
      "Epoch 12/20\n",
      "38/38 [==============================] - 5s 127ms/step - loss: 0.0046 - val_loss: 0.0014\n",
      "Epoch 13/20\n",
      "38/38 [==============================] - 5s 125ms/step - loss: 0.0046 - val_loss: 0.0012\n",
      "Epoch 14/20\n",
      "38/38 [==============================] - 5s 125ms/step - loss: 0.0049 - val_loss: 0.0036\n",
      "Epoch 15/20\n",
      "38/38 [==============================] - 5s 127ms/step - loss: 0.0046 - val_loss: 0.0023\n",
      "Epoch 16/20\n",
      "38/38 [==============================] - 5s 127ms/step - loss: 0.0042 - val_loss: 0.0023\n",
      "Epoch 17/20\n",
      "38/38 [==============================] - 5s 128ms/step - loss: 0.0040 - val_loss: 0.0038\n",
      "Epoch 18/20\n",
      "38/38 [==============================] - 5s 124ms/step - loss: 0.0041 - val_loss: 0.0035\n",
      "Epoch 19/20\n",
      "38/38 [==============================] - 5s 124ms/step - loss: 0.0041 - val_loss: 0.0028\n",
      "Epoch 20/20\n",
      "38/38 [==============================] - 5s 124ms/step - loss: 0.0040 - val_loss: 0.0023\n"
     ]
    }
   ],
   "source": [
    "model.compile(optimizer = 'adam', loss = 'mean_squared_error')\n",
    "history= model.fit(X_train, Y_train, epochs = 20, batch_size =50, validation_split=0.1)\n"
   ]
  },
  {
   "cell_type": "code",
   "execution_count": 22,
   "metadata": {},
   "outputs": [
    {
     "data": {
      "image/png": "[encoded data removed]",
      "text/plain": [
       "<Figure size 640x480 with 1 Axes>"
      ]
     },
     "metadata": {},
     "output_type": "display_data"
    }
   ],
   "source": [
    "loss = history.history['loss']\n",
    "val_loss = history.history['val_loss']\n",
    "epochs = range(len(loss))\n",
    "plt.figure()\n",
    "plt.plot(epochs, loss, 'b', label='Training loss')\n",
    "plt.plot(epochs, val_loss, 'r', label='Validation loss')\n",
    "plt.title(\"Training and Validation Loss\")\n",
    "plt.legend()\n",
    "plt.show()"
   ]
  },
  {
   "cell_type": "code",
   "execution_count": 23,
   "metadata": {},
   "outputs": [
    {
     "name": "stderr",
     "output_type": "stream",
     "text": [
      "C:\\Users\\Admin\\AppData\\Local\\Temp\\ipykernel_16428\\4162481076.py:2: FutureWarning: The frame.append method is deprecated and will be removed from pandas in a future version. Use pandas.concat instead.\n",
      "  df= part_60_days.append(data_test, ignore_index = True)\n"
     ]
    },
    {
     "data": {
      "text/html": [
       "<div>\n",
       "<style scoped>\n",
       "    .dataframe tbody tr th:only-of-type {\n",
       "        vertical-align: middle;\n",
       "    }\n",
       "\n",
       "    .dataframe tbody tr th {\n",
       "        vertical-align: top;\n",
       "    }\n",
       "\n",
       "    .dataframe thead th {\n",
       "        text-align: right;\n",
       "    }\n",
       "</style>\n",
       "<table border=\"1\" class=\"dataframe\">\n",
       "  <thead>\n",
       "    <tr style=\"text-align: right;\">\n",
       "      <th></th>\n",
       "      <th>Open</th>\n",
       "      <th>High</th>\n",
       "      <th>Low</th>\n",
       "      <th>Close</th>\n",
       "      <th>Volume</th>\n",
       "    </tr>\n",
       "  </thead>\n",
       "  <tbody>\n",
       "    <tr>\n",
       "      <th>0</th>\n",
       "      <td>20482.958984</td>\n",
       "      <td>20742.810547</td>\n",
       "      <td>20087.134766</td>\n",
       "      <td>20159.503906</td>\n",
       "      <td>55552169483</td>\n",
       "    </tr>\n",
       "    <tr>\n",
       "      <th>1</th>\n",
       "      <td>20162.689453</td>\n",
       "      <td>20382.095703</td>\n",
       "      <td>20086.240234</td>\n",
       "      <td>20209.988281</td>\n",
       "      <td>43228750179</td>\n",
       "    </tr>\n",
       "    <tr>\n",
       "      <th>2</th>\n",
       "      <td>20208.769531</td>\n",
       "      <td>21209.560547</td>\n",
       "      <td>20188.019531</td>\n",
       "      <td>21147.230469</td>\n",
       "      <td>64072727950</td>\n",
       "    </tr>\n",
       "    <tr>\n",
       "      <th>3</th>\n",
       "      <td>21144.832031</td>\n",
       "      <td>21446.886719</td>\n",
       "      <td>21097.634766</td>\n",
       "      <td>21282.691406</td>\n",
       "      <td>37846047609</td>\n",
       "    </tr>\n",
       "    <tr>\n",
       "      <th>4</th>\n",
       "      <td>21285.056641</td>\n",
       "      <td>21345.376953</td>\n",
       "      <td>20920.191406</td>\n",
       "      <td>20926.486328</td>\n",
       "      <td>35082693210</td>\n",
       "    </tr>\n",
       "  </tbody>\n",
       "</table>\n",
       "</div>"
      ],
      "text/plain": [
       "           Open          High           Low         Close       Volume\n",
       "0  20482.958984  20742.810547  20087.134766  20159.503906  55552169483\n",
       "1  20162.689453  20382.095703  20086.240234  20209.988281  43228750179\n",
       "2  20208.769531  21209.560547  20188.019531  21147.230469  64072727950\n",
       "3  21144.832031  21446.886719  21097.634766  21282.691406  37846047609\n",
       "4  21285.056641  21345.376953  20920.191406  20926.486328  35082693210"
      ]
     },
     "execution_count": 23,
     "metadata": {},
     "output_type": "execute_result"
    }
   ],
   "source": [
    "part_60_days = data_training.tail(60)\n",
    "df= part_60_days.append(data_test, ignore_index = True)\n",
    "df = df.drop(['Date', 'Adj Close'], axis = 1)\n",
    "df.head()"
   ]
  },
  {
   "cell_type": "code",
   "execution_count": 24,
   "metadata": {},
   "outputs": [
    {
     "data": {
      "text/plain": [
       "array([[0.29343164, 0.2914898 , 0.29297351, 0.28849142, 0.15812076],\n",
       "       [0.28862374, 0.28617061, 0.29295985, 0.28924911, 0.12300134],\n",
       "       [0.2893155 , 0.29837261, 0.29451424, 0.30331563, 0.18240274],\n",
       "       ...,\n",
       "       [0.23442476, 0.23116209, 0.2383226 , 0.23570441, 0.0410507 ],\n",
       "       [0.23576095, 0.23103929, 0.23679219, 0.23510774, 0.04520266],\n",
       "       [0.23519565, 0.23082633, 0.23845755, 0.23428093, 0.03183711]])"
      ]
     },
     "execution_count": 24,
     "metadata": {},
     "output_type": "execute_result"
    }
   ],
   "source": [
    "inputs = scaler.transform(df) \n",
    "inputs"
   ]
  },
  {
   "cell_type": "code",
   "execution_count": 25,
   "metadata": {},
   "outputs": [
    {
     "name": "stdout",
     "output_type": "stream",
     "text": [
      "68/68 [==============================] - 2s 20ms/step\n"
     ]
    },
    {
     "data": {
      "text/plain": [
       "array([1.50120409e-05, 1.47462472e-05, 1.52722237e-05, 1.50084104e-05,\n",
       "       2.84981142e-12])"
      ]
     },
     "execution_count": 25,
     "metadata": {},
     "output_type": "execute_result"
    }
   ],
   "source": [
    "X_test = []\n",
    "Y_test = []\n",
    "for i in range (60, inputs.shape[0]):\n",
    "    X_test.append(inputs[i-60:i]) \n",
    "    Y_test.append(inputs[i, 0])\n",
    "X_test, Y_test = np.array(X_test), np.array(Y_test) \n",
    "X_test.shape, Y_test.shape\n",
    "Y_pred = model.predict(X_test) \n",
    "Y_pred, Y_test\n",
    "scaler.scale_"
   ]
  },
  {
   "cell_type": "code",
   "execution_count": 26,
   "metadata": {},
   "outputs": [
    {
     "data": {
      "text/plain": [
       "array([[[2.93431642e-01, 2.91489799e-01, 2.92973508e-01, 2.88491423e-01,\n",
       "         1.58120759e-01],\n",
       "        [2.88623743e-01, 2.86170608e-01, 2.92959847e-01, 2.89249113e-01,\n",
       "         1.23001338e-01],\n",
       "        [2.89315499e-01, 2.98372609e-01, 2.94514243e-01, 3.03315628e-01,\n",
       "         1.82402744e-01],\n",
       "        ...,\n",
       "        [2.34424763e-01, 2.31162095e-01, 2.38322601e-01, 2.35704410e-01,\n",
       "         4.10506999e-02],\n",
       "        [2.35760952e-01, 2.31039286e-01, 2.36792187e-01, 2.35107738e-01,\n",
       "         4.52026626e-02],\n",
       "        [2.35195654e-01, 2.30826330e-01, 2.38457546e-01, 2.34280927e-01,\n",
       "         3.18371142e-02]],\n",
       "\n",
       "       [[2.88623743e-01, 2.86170608e-01, 2.92959847e-01, 2.89249113e-01,\n",
       "         1.23001338e-01],\n",
       "        [2.89315499e-01, 2.98372609e-01, 2.94514243e-01, 3.03315628e-01,\n",
       "         1.82402744e-01],\n",
       "        [3.03367707e-01, 3.01872280e-01, 3.08406090e-01, 3.05348682e-01,\n",
       "         1.07661651e-01],\n",
       "        ...,\n",
       "        [2.35760952e-01, 2.31039286e-01, 2.36792187e-01, 2.35107738e-01,\n",
       "         4.52026626e-02],\n",
       "        [2.35195654e-01, 2.30826330e-01, 2.38457546e-01, 2.34280927e-01,\n",
       "         3.18371142e-02],\n",
       "        [1.37900677e-03, 1.01570719e-03, 1.90058274e-03, 1.51029640e-03,\n",
       "         1.26052859e-04]],\n",
       "\n",
       "       [[2.89315499e-01, 2.98372609e-01, 2.94514243e-01, 3.03315628e-01,\n",
       "         1.82402744e-01],\n",
       "        [3.03367707e-01, 3.01872280e-01, 3.08406090e-01, 3.05348682e-01,\n",
       "         1.07661651e-01],\n",
       "        [3.05472765e-01, 3.00375392e-01, 3.05696135e-01, 3.00002610e-01,\n",
       "         9.97866120e-02],\n",
       "        ...,\n",
       "        [2.35195654e-01, 2.30826330e-01, 2.38457546e-01, 2.34280927e-01,\n",
       "         3.18371142e-02],\n",
       "        [1.37900677e-03, 1.01570719e-03, 1.90058274e-03, 1.51029640e-03,\n",
       "         1.26052859e-04],\n",
       "        [1.55524799e-03, 1.27067037e-03, 2.08354369e-03, 1.85849080e-03,\n",
       "         2.23644674e-04]],\n",
       "\n",
       "       ...,\n",
       "\n",
       "       [[2.98461027e-01, 2.94058526e-01, 3.00003742e-01, 2.95636921e-01,\n",
       "         8.95376994e-02],\n",
       "        [2.95694502e-01, 2.92264121e-01, 2.96032904e-01, 2.93538294e-01,\n",
       "         1.29954071e-01],\n",
       "        [2.93610878e-01, 2.90081215e-01, 2.97138411e-01, 2.93380705e-01,\n",
       "         1.13285057e-01],\n",
       "        ...,\n",
       "        [2.38777170e-01, 2.35119504e-01, 2.42960555e-01, 2.39868687e-01,\n",
       "         3.36831403e-02],\n",
       "        [2.39933713e-01, 2.35705264e-01, 2.40359743e-01, 2.36827520e-01,\n",
       "         4.46880361e-02],\n",
       "        [2.36887910e-01, 2.32878766e-01, 2.38152668e-01, 2.34357112e-01,\n",
       "         4.82706300e-02]],\n",
       "\n",
       "       [[2.95694502e-01, 2.92264121e-01, 2.96032904e-01, 2.93538294e-01,\n",
       "         1.29954071e-01],\n",
       "        [2.93610878e-01, 2.90081215e-01, 2.97138411e-01, 2.93380705e-01,\n",
       "         1.13285057e-01],\n",
       "        [2.93431642e-01, 2.91489799e-01, 2.92973508e-01, 2.88491423e-01,\n",
       "         1.58120759e-01],\n",
       "        ...,\n",
       "        [2.39933713e-01, 2.35705264e-01, 2.40359743e-01, 2.36827520e-01,\n",
       "         4.46880361e-02],\n",
       "        [2.36887910e-01, 2.32878766e-01, 2.38152668e-01, 2.34357112e-01,\n",
       "         4.82706300e-02],\n",
       "        [2.34424763e-01, 2.31162095e-01, 2.38322601e-01, 2.35704410e-01,\n",
       "         4.10506999e-02]],\n",
       "\n",
       "       [[2.93610878e-01, 2.90081215e-01, 2.97138411e-01, 2.93380705e-01,\n",
       "         1.13285057e-01],\n",
       "        [2.93431642e-01, 2.91489799e-01, 2.92973508e-01, 2.88491423e-01,\n",
       "         1.58120759e-01],\n",
       "        [2.88623743e-01, 2.86170608e-01, 2.92959847e-01, 2.89249113e-01,\n",
       "         1.23001338e-01],\n",
       "        ...,\n",
       "        [2.36887910e-01, 2.32878766e-01, 2.38152668e-01, 2.34357112e-01,\n",
       "         4.82706300e-02],\n",
       "        [2.34424763e-01, 2.31162095e-01, 2.38322601e-01, 2.35704410e-01,\n",
       "         4.10506999e-02],\n",
       "        [2.35760952e-01, 2.31039286e-01, 2.36792187e-01, 2.35107738e-01,\n",
       "         4.52026626e-02]]])"
      ]
     },
     "execution_count": 26,
     "metadata": {},
     "output_type": "execute_result"
    }
   ],
   "source": [
    "X_test\n"
   ]
  },
  {
   "cell_type": "code",
   "execution_count": 27,
   "metadata": {},
   "outputs": [
    {
     "data": {
      "text/plain": [
       "array([0.00137901, 0.00155525, 0.00188821, ..., 0.23442476, 0.23576095,\n",
       "       0.23519565])"
      ]
     },
     "execution_count": 27,
     "metadata": {},
     "output_type": "execute_result"
    }
   ],
   "source": [
    "Y_test"
   ]
  },
  {
   "cell_type": "code",
   "execution_count": 28,
   "metadata": {},
   "outputs": [
    {
     "data": {
      "image/png": "[encoded data removed]",
      "text/plain": [
       "<Figure size 1400x500 with 1 Axes>"
      ]
     },
     "metadata": {},
     "output_type": "display_data"
    }
   ],
   "source": [
    "plt.figure(figsize=(14,5))\n",
    "plt.plot(Y_test, color = 'red', label = 'Real Bitcoin Price')\n",
    "plt.plot(Y_pred, color = 'green', label = 'Predicted Bitcoin Price')\n",
    "plt.title('Bitcoin Price Prediction using RNN-LSTM')\n",
    "plt.xlabel('Time')\n",
    "plt.ylabel('Price')\n",
    "plt.legend()\n",
    "plt.show()"
   ]
  }
 ],
 "metadata": {
  "kernelspec": {
   "display_name": "Python 3",
   "language": "python",
   "name": "python3"
  },
  "language_info": {
   "codemirror_mode": {
    "name": "ipython",
    "version": 3
   },
   "file_extension": ".py",
   "mimetype": "text/x-python",
   "name": "python",
   "nbconvert_exporter": "python",
   "pygments_lexer": "ipython3",
   "version": "3.10.11"
  },
  "orig_nbformat": 4
 },
 "nbformat": 4,
 "nbformat_minor": 2
}
